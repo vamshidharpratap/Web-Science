{
 "cells": [
  {
   "cell_type": "code",
   "execution_count": 30,
   "id": "74183b95",
   "metadata": {},
   "outputs": [],
   "source": [
    "import os\n",
    "import requests\n",
    "import json\n",
    "import matplotlib.pyplot as plt\n",
    "from requests.exceptions import ConnectionError"
   ]
  },
  {
   "cell_type": "code",
   "execution_count": 27,
   "id": "373f54b5",
   "metadata": {},
   "outputs": [
    {
     "data": {
      "text/plain": [
       "'/Users/vamshidharpratap/Downloads/DynamicWeb'"
      ]
     },
     "execution_count": 27,
     "metadata": {},
     "output_type": "execute_result"
    }
   ],
   "source": [
    "os.getcwd()"
   ]
  },
  {
   "cell_type": "code",
   "execution_count": 28,
   "id": "e2934528",
   "metadata": {},
   "outputs": [
    {
     "data": {
      "text/plain": [
       "['.DS_Store',\n",
       " 'bin',\n",
       " 'tests',\n",
       " 'docs',\n",
       " 'contacts.txt',\n",
       " 'templates',\n",
       " 'gothonweb',\n",
       " 'manual.txt',\n",
       " '.idea']"
      ]
     },
     "execution_count": 28,
     "metadata": {},
     "output_type": "execute_result"
    }
   ],
   "source": [
    "#set the working directory where Dynamic zip file is present\n",
    "path = \"//Users//vamshidharpratap//Downloads//DynamicWeb//\"\n",
    "os.chdir(path)\n",
    "os.listdir()"
   ]
  },
  {
   "cell_type": "code",
   "execution_count": 29,
   "id": "f22aaea0",
   "metadata": {},
   "outputs": [],
   "source": []
  },
  {
   "cell_type": "code",
   "execution_count": 76,
   "id": "76b8782b",
   "metadata": {},
   "outputs": [],
   "source": [
    "\n",
    "def send_request(pname : str,pemail : str,url : str)-> str: \n",
    "    '''\n",
    "    This function will trigger a POST request to the corresponding url \n",
    "    \n",
    "    :param pname:  input string which specifies the name\n",
    "    :param pemail: input string which specifies the email \n",
    "    :param url:  URL for which the request has to be triggered\n",
    "    \n",
    "    response : returns the response object \n",
    "    '''\n",
    "\n",
    "    import json\n",
    "    payload = json.dumps({'name':pname, 'email':pemail})\n",
    "    #print(payload)\n",
    "    headers = {\"Content-Type\": \"application/json\"}\n",
    "    try:\n",
    "        response = requests.post(url,headers = headers,json = payload)\n",
    "        return response.text\n",
    "    \n",
    "    except (ConnectionError, ConnectionRefusedError) as exc:\n",
    "        print(exc)\n",
    "        print(\"Make sure that server is started\")\n",
    " "
   ]
  },
  {
   "cell_type": "code",
   "execution_count": null,
   "id": "259da6bb",
   "metadata": {},
   "outputs": [],
   "source": []
  },
  {
   "cell_type": "code",
   "execution_count": 91,
   "id": "2cfde99b",
   "metadata": {
    "scrolled": false
   },
   "outputs": [
    {
     "name": "stdout",
     "output_type": "stream",
     "text": [
      "['Peter', 'pete@gmail.com']\n",
      "UnSuccessful attempt 1 \n",
      "\n",
      "['Korok', 'korok@yahoo.com']\n",
      "Successful attempt: 1\n",
      "['Stefan', 'stef@gmail.com']\n",
      "UnSuccessful attempt 2 \n",
      "\n",
      "['Lara', 'lara@yahoo.com']\n",
      "Successful attempt: 2\n",
      "['Jun', 'jun@gmail.com']\n",
      "UnSuccessful attempt 3 \n",
      "\n",
      "['Igor', 'igor@uni-kobelnz.com']\n",
      "Successful attempt: 3\n",
      "['Claudia', 'claudia@gmail.com']\n",
      "UnSuccessful attempt 4 \n",
      "\n",
      "['Ivana', 'ivana@airbnb.com']\n",
      "Successful attempt: 4\n",
      "['Husam', 'sam@gmail.com']\n",
      "UnSuccessful attempt 5 \n",
      "\n",
      "['Halle', 'halle@airbnb.com']\n",
      "Successful attempt: 5\n",
      "['Rajesh', 'raj@gmail.com\\n']\n",
      "Successful attempt: 6\n",
      "['Dev', 'dev@gmail.com\\n']\n",
      "Successful attempt: 7\n",
      "['Walter', 'white@gmail.com\\n']\n",
      "Successful attempt: 8\n",
      "['Jason', 'bourne@yahoo.com\\n']\n",
      "Successful attempt: 9\n",
      "['Bruce', 'bat@gmail.com']\n",
      "Successful attempt: 10\n"
     ]
    }
   ],
   "source": [
    "try :\n",
    "\n",
    "    with open('contacts.txt','r') as file :\n",
    "        \n",
    "        \n",
    "        successful_attempt = 0\n",
    "        unsuccessful_attempt = 0\n",
    "        items_in_list = []  # stores the item number from the responses of each requests \n",
    "        url = \"http://0.0.0.0:8080/form\"\n",
    "        graph = [] # this variable is used to plot the successful and unsuccessful attempts\n",
    "\n",
    "        for line in file.readlines():\n",
    "            #print(line)\n",
    "            name, email = line.split(', ')\n",
    "            if email[-2] == ',':\n",
    "                email = email[:-2]\n",
    "            print([name,email])    \n",
    "\n",
    "            #'''\n",
    "            respone = send_request(name,email,url)\n",
    "            f = open(\"itemnumbers_after_request.txt\", \"a\")\n",
    "            \n",
    "            \n",
    "            if(respone[4:9] == 'Error'):\n",
    "                #print(respone[4:9])\n",
    "                unsuccessful_attempt = unsuccessful_attempt +1\n",
    "                print(\"UnSuccessful attempt\",unsuccessful_attempt,\"\\n\")\n",
    "                items_in_list.append(int(respone[123:125]))\n",
    "                f.write(respone[123:125]+'\\n')\n",
    "                graph.append(0)\n",
    "\n",
    "            elif(respone[4:11] == 'Success'):\n",
    "                \n",
    "                successful_attempt = successful_attempt+1\n",
    "                print(\"Successful attempt:\",successful_attempt)\n",
    "                items_in_list.append(int(respone[130:132]))\n",
    "                f.write(respone[130:132]+'\\n')\n",
    "                graph.append(1)\n",
    "            \n",
    "            else:\n",
    "                print(respone)\n",
    "            #'''                \n",
    "                \n",
    "\n",
    "except FileNotFoundError as exc:\n",
    "    print(exc)\n",
    "\n",
    "\n",
    "finally :\n",
    "    \n",
    "    file.close()\n",
    "    f.close()\n",
    "    "
   ]
  },
  {
   "cell_type": "code",
   "execution_count": 92,
   "id": "258183a1",
   "metadata": {},
   "outputs": [
    {
     "data": {
      "text/plain": [
       "[10, 11, 11, 12, 12, 13, 13, 14, 14, 15, 16, 17, 18, 19, 20]"
      ]
     },
     "execution_count": 92,
     "metadata": {},
     "output_type": "execute_result"
    }
   ],
   "source": [
    "items_in_list"
   ]
  },
  {
   "cell_type": "code",
   "execution_count": 93,
   "id": "4119d06d",
   "metadata": {
    "scrolled": true
   },
   "outputs": [
    {
     "data": {
      "text/plain": [
       "10"
      ]
     },
     "execution_count": 93,
     "metadata": {},
     "output_type": "execute_result"
    }
   ],
   "source": [
    "successful_attempt"
   ]
  },
  {
   "cell_type": "code",
   "execution_count": 94,
   "id": "8892df3e",
   "metadata": {},
   "outputs": [
    {
     "data": {
      "text/plain": [
       "[0, 1, 0, 1, 0, 1, 0, 1, 0, 1, 1, 1, 1, 1, 1]"
      ]
     },
     "execution_count": 94,
     "metadata": {},
     "output_type": "execute_result"
    }
   ],
   "source": [
    "graph"
   ]
  },
  {
   "cell_type": "code",
   "execution_count": 95,
   "id": "adfb4802",
   "metadata": {
    "scrolled": true
   },
   "outputs": [
    {
     "data": {
      "image/png": "[encoded data removed]",
      "text/plain": [
       "<Figure size 432x288 with 1 Axes>"
      ]
     },
     "metadata": {
      "needs_background": "light"
     },
     "output_type": "display_data"
    }
   ],
   "source": [
    "plt.stem(graph)\n",
    "plt.title(\"Graphical representation of attempts for the requests being sent\\n1 shows regesterd and 0 shows unregestered\",weight=\"bold\")\n",
    "plt.xlabel(\"Requests number\",weight=\"bold\")\n",
    "plt.show()"
   ]
  },
  {
   "cell_type": "code",
   "execution_count": 96,
   "id": "849d267a",
   "metadata": {
    "scrolled": true
   },
   "outputs": [
    {
     "data": {
      "image/png": "[encoded data removed]",
      "text/plain": [
       "<Figure size 432x288 with 1 Axes>"
      ]
     },
     "metadata": {
      "needs_background": "light"
     },
     "output_type": "display_data"
    }
   ],
   "source": [
    "plt.plot(items_in_list,color='red')\n",
    "plt.title(\"Graphical representation of element after the requests being sent\",weight=\"bold\")\n",
    "plt.xlabel(\"Request number\",weight=\"bold\")\n",
    "plt.ylabel(\"Elements in list\",weight=\"bold\")\n",
    "plt.show()"
   ]
  },
  {
   "cell_type": "code",
   "execution_count": null,
   "id": "ac2bef9b",
   "metadata": {},
   "outputs": [],
   "source": []
  },
  {
   "cell_type": "code",
   "execution_count": null,
   "id": "ceb75ae4",
   "metadata": {},
   "outputs": [],
   "source": []
  }
 ],
 "metadata": {
  "kernelspec": {
   "display_name": "Python 3 (ipykernel)",
   "language": "python",
   "name": "python3"
  },
  "language_info": {
   "codemirror_mode": {
    "name": "ipython",
    "version": 3
   },
   "file_extension": ".py",
   "mimetype": "text/x-python",
   "name": "python",
   "nbconvert_exporter": "python",
   "pygments_lexer": "ipython3",
   "version": "3.9.12"
  }
 },
 "nbformat": 4,
 "nbformat_minor": 5
}
