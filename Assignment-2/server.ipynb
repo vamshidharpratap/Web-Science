{
 "cells": [
  {
   "cell_type": "code",
   "execution_count": null,
   "id": "6c2b9c8c",
   "metadata": {},
   "outputs": [],
   "source": [
    "import socket\n",
    "import sys\n",
    "import json"
   ]
  },
  {
   "cell_type": "code",
   "execution_count": null,
   "id": "b36f406d",
   "metadata": {
    "scrolled": true
   },
   "outputs": [
    {
     "name": "stdout",
     "output_type": "stream",
     "text": [
      "Waiting for connection\n",
      "Connected to client IP:  ('127.0.0.1', 55990)\n",
      "Received data in Bytes: b'{\"schema\": \"http\", \"netloc\": \"docs.python.org:80\", \"path\": \"/3/library/urllib.parse.html?highlight=params#url-parsing\", \"query\": \"highlight=params\", \"fragment\": \"url-parsing\"}'\n",
      "JSON FORMAT OF DATA IS: {'schema': 'http', 'netloc': 'docs.python.org:80', 'path': '/3/library/urllib.parse.html?highlight=params#url-parsing', 'query': 'highlight=params', 'fragment': 'url-parsing'}\n",
      "http://docs.python.org:80/3/library/urllib.parse.html?highlight=params#url-parsing?highlight=params#url-parsing\n",
      "Waiting for connection\n"
     ]
    }
   ],
    "# Set up a TCP/IP server\n",
    "\n",
    "\n",
    "# AF_INET is the Internet Protocol v4 addresses\n",
    "#SOCK_STREAM is the connection based protocal \n",
    "\n",
    "tcp_socket = socket.socket(socket.AF_INET, socket.SOCK_STREAM)  \n",
    "HOST = \"127.0.0.1\"  # Standard loopback interface address (localhost)\n",
    "\n",
    "#make sure the port adress is same in the client as well\n",
    "PORT = 65401  # Port to listen on (non-privileged ports are > 1023)\n",
    "\n",
    "# Bind the socket to server address and port 80\n",
    "server_address = (HOST, PORT)\n",
    "tcp_socket.bind(server_address)\n",
    " \n",
    "# Now server will listen on this socket \n",
    "tcp_socket.listen()\n",
    " \n",
    "while True:\n",
    "    \n",
    "    print(\"Waiting for connection\")\n",
    "    #tries to accept the connection which are being made to this socket\n",
    "    connection, client = tcp_socket.accept()\n",
    " \n",
    "    try:\n",
    "        print(\"Connected to client IP: \",client)\n",
   "source": [
    "         \n",
    "        # Receive and print data 1024 bytes at a time, as long as the client is sending something\n",
    "        while True:\n",
    "            \n",
    "            data = connection.recv(1024)\n",
    "            \n",
    "            if data:\n",
    "                print(\"Received data in Bytes:\",format(data))\n",
    "                json_data = json.loads(data)\n",
    "                #print(\"JSON FORMAT OF DATA IS:\",json_data)\n",
    "            if not data:\n",
    "        \n",
    "                break\n",
    " \n",
    "    finally:\n",
    "        \n",
    "        #converting data into dict\n",
    "        data = json_data\n",
    "        \n",
    "        url = \"\"\n",
    "        if data['schema'] != '':\n",
    "            url = url + data['schema'] + '://'            \n",
    "        if data['netloc']!= '' :\n",
    "            if data['schema'] == '':\n",
    "                url = url + '//' + x['netloc'] \n",
    "            else:        \n",
    "                url = url + data['netloc'] \n",
    "        url = url+ data['path']\n",
    "        if data['query'] != '':\n",
    "            url = url + '?' + data['query']\n",
    "        if data['fragment'] != '':\n",
    "            url = url + '#' + data['fragment']\n",
    "\n",
    "        print(\"The valid url is :\\n\",url)\n",
    "\n",
    "\n",
    "        connection.close()"
   ]
  },
  {
   "cell_type": "code",
   "execution_count": 9,
   "id": "912f9b08",
   "metadata": {},
   "outputs": [],
   "source": [
    "url_components_recieved = b'{\"schema\": \"\", \"netloc\": \"\", \"path\": \"help/Python.html\", \"query\": \"\", \"fragment\": \"\"}'"
   ]
  },
  {
   "cell_type": "code",
   "execution_count": 13,
   "id": "6c3db316",
   "metadata": {},
   "outputs": [
    {
     "data": {
      "text/plain": [
       "{'schema': '',\n",
       " 'netloc': '',\n",
       " 'path': 'help/Python.html',\n",
       " 'query': '',\n",
       " 'fragment': ''}"
      ]
     },
     "execution_count": 13,
     "metadata": {},
     "output_type": "execute_result"
    }
   ],
   "source": [
    "json.loads(url_components_recieved)"
   ]
  },
  {
   "cell_type": "code",
   "execution_count": null,
   "id": "a3255682",
   "metadata": {},
   "outputs": [],
   "source": []
  }
 ],
 "metadata": {
  "kernelspec": {
   "display_name": "Python 3 (ipykernel)",
   "language": "python",
   "name": "python3"
  },
  "language_info": {
   "codemirror_mode": {
    "name": "ipython",
    "version": 3
   },
   "file_extension": ".py",
   "mimetype": "text/x-python",
   "name": "python",
   "nbconvert_exporter": "python",
   "pygments_lexer": "ipython3",
   "version": "3.9.12"
  }
 },
 "nbformat": 4,
 "nbformat_minor": 5
}
