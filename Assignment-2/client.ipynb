{
 "cells": [
  {
   "cell_type": "code",
   "execution_count": 2,
   "id": "51d3a205",
   "metadata": {},
   "outputs": [
    {
     "name": "stdout",
     "output_type": "stream",
     "text": [
      "Data has been send successfully\n",
      "Closing socket\n"
     ]
    }
   ],
   "source": [
    "# TCP CLIENT\n",
    "\n",
    "import socket\n",
    "import sys\n",
    "import json\n",
    "# Creating a connection to the server on port 65430\n",
    "\n",
    "HOST = \"127.0.0.1\"  # Standard loopback interface address (localhost)\n",
    "PORT = 65401  # Port to listen on (non-privileged ports are > 1023)\n",
    "\n",
    "tcp_socket = socket.socket(socket.AF_INET, socket.SOCK_STREAM)  \n",
    "\n",
    "tcp_socket.connect((HOST, PORT))\n",
    " \n",
    "try:\n",
    "    \n",
    "    data = {'schema': 'http', 'netloc': 'docs.python.org:80', 'path': '/3/library/urllib.parse.html?highlight=params#url-parsing', 'query': 'highlight=params', 'fragment': 'url-parsing'}\n",
    "    # convert the python dictionary to Bytes\n",
    "    data = json.dumps(data).encode('utf-8')\n",
    "    tcp_socket.sendall(data)\n",
    "    print(\"Data has been send successfully\")\n",
    "\n",
    "finally:\n",
    "    \n",
    "    print(\"Closing socket\")\n",
    "    tcp_socket.close()"
   ]
  },
  {
   "cell_type": "code",
   "execution_count": null,
   "id": "5ba7ca8d",
   "metadata": {},
   "outputs": [],
   "source": []
  },
  {
   "cell_type": "code",
   "execution_count": null,
   "id": "69d45add",
   "metadata": {},
   "outputs": [],
   "source": []
  }
 ],
 "metadata": {
  "kernelspec": {
   "display_name": "Python 3 (ipykernel)",
   "language": "python",
   "name": "python3"
  },
  "language_info": {
   "codemirror_mode": {
    "name": "ipython",
    "version": 3
   },
   "file_extension": ".py",
   "mimetype": "text/x-python",
   "name": "python",
   "nbconvert_exporter": "python",
   "pygments_lexer": "ipython3",
   "version": "3.9.12"
  }
 },
 "nbformat": 4,
 "nbformat_minor": 5
}
