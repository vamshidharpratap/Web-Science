{
 "cells": [
  {
   "cell_type": "code",
   "execution_count": 1,
   "id": "1c655191",
   "metadata": {},
   "outputs": [],
   "source": [
    "#Importing the libraries required\n",
    "import pandas as pd\n",
    "import matplotlib.pyplot as plt"
   ]
  },
  {
   "cell_type": "code",
   "execution_count": 2,
   "id": "ec8ae79c",
   "metadata": {},
   "outputs": [
    {
     "data": {
      "text/html": [
       "<div>\n",
       "<style scoped>\n",
       "    .dataframe tbody tr th:only-of-type {\n",
       "        vertical-align: middle;\n",
       "    }\n",
       "\n",
       "    .dataframe tbody tr th {\n",
       "        vertical-align: top;\n",
       "    }\n",
       "\n",
       "    .dataframe thead th {\n",
       "        text-align: right;\n",
       "    }\n",
       "</style>\n",
       "<table border=\"1\" class=\"dataframe\">\n",
       "  <thead>\n",
       "    <tr style=\"text-align: right;\">\n",
       "      <th></th>\n",
       "      <th>Unnamed: 0</th>\n",
       "      <th>url</th>\n",
       "      <th>time_in_seconds</th>\n",
       "      <th>level</th>\n",
       "    </tr>\n",
       "  </thead>\n",
       "  <tbody>\n",
       "    <tr>\n",
       "      <th>0</th>\n",
       "      <td>0</td>\n",
       "      <td>https://west.uni-koblenz.de/en</td>\n",
       "      <td>3.084176</td>\n",
       "      <td>0</td>\n",
       "    </tr>\n",
       "    <tr>\n",
       "      <th>1</th>\n",
       "      <td>1</td>\n",
       "      <td>https://west.uni-koblenz.de/en/feed.xml</td>\n",
       "      <td>1.443083</td>\n",
       "      <td>1</td>\n",
       "    </tr>\n",
       "    <tr>\n",
       "      <th>2</th>\n",
       "      <td>2</td>\n",
       "      <td>https://west.uni-koblenz.de/en/services</td>\n",
       "      <td>2.546146</td>\n",
       "      <td>1</td>\n",
       "    </tr>\n",
       "    <tr>\n",
       "      <th>3</th>\n",
       "      <td>3</td>\n",
       "      <td>https://west.uni-koblenz.de/en/about-us</td>\n",
       "      <td>2.784159</td>\n",
       "      <td>1</td>\n",
       "    </tr>\n",
       "    <tr>\n",
       "      <th>4</th>\n",
       "      <td>4</td>\n",
       "      <td>https://west.uni-koblenz.de/en/studying</td>\n",
       "      <td>2.725156</td>\n",
       "      <td>1</td>\n",
       "    </tr>\n",
       "  </tbody>\n",
       "</table>\n",
       "</div>"
      ],
      "text/plain": [
       "   Unnamed: 0                                      url  time_in_seconds  level\n",
       "0           0           https://west.uni-koblenz.de/en         3.084176      0\n",
       "1           1  https://west.uni-koblenz.de/en/feed.xml         1.443083      1\n",
       "2           2  https://west.uni-koblenz.de/en/services         2.546146      1\n",
       "3           3  https://west.uni-koblenz.de/en/about-us         2.784159      1\n",
       "4           4  https://west.uni-koblenz.de/en/studying         2.725156      1"
      ]
     },
     "execution_count": 2,
     "metadata": {},
     "output_type": "execute_result"
    }
   ],
   "source": [
    "# Reading the dataset\n",
    "path = \"Downloads//\" #Specify the path where the file has been stored\n",
    "file_name = \"dataset.csv\" # Filename where the data is present\n",
    "\n",
    "data = pd.read_csv(path+file_name)\n",
    "data.head()"
   ]
  },
  {
   "cell_type": "code",
   "execution_count": 11,
   "id": "1d4ceb0f",
   "metadata": {},
   "outputs": [
    {
     "data": {
      "text/html": [
       "<div>\n",
       "<style scoped>\n",
       "    .dataframe tbody tr th:only-of-type {\n",
       "        vertical-align: middle;\n",
       "    }\n",
       "\n",
       "    .dataframe tbody tr th {\n",
       "        vertical-align: top;\n",
       "    }\n",
       "\n",
       "    .dataframe thead th {\n",
       "        text-align: right;\n",
       "    }\n",
       "</style>\n",
       "<table border=\"1\" class=\"dataframe\">\n",
       "  <thead>\n",
       "    <tr style=\"text-align: right;\">\n",
       "      <th></th>\n",
       "      <th>Unnamed: 0</th>\n",
       "      <th>time_in_seconds</th>\n",
       "      <th>level</th>\n",
       "    </tr>\n",
       "  </thead>\n",
       "  <tbody>\n",
       "    <tr>\n",
       "      <th>count</th>\n",
       "      <td>739.000000</td>\n",
       "      <td>739.000000</td>\n",
       "      <td>739.000000</td>\n",
       "    </tr>\n",
       "    <tr>\n",
       "      <th>mean</th>\n",
       "      <td>369.000000</td>\n",
       "      <td>4.389104</td>\n",
       "      <td>1.851150</td>\n",
       "    </tr>\n",
       "    <tr>\n",
       "      <th>std</th>\n",
       "      <td>213.475213</td>\n",
       "      <td>8.724174</td>\n",
       "      <td>0.359966</td>\n",
       "    </tr>\n",
       "    <tr>\n",
       "      <th>min</th>\n",
       "      <td>0.000000</td>\n",
       "      <td>0.000000</td>\n",
       "      <td>0.000000</td>\n",
       "    </tr>\n",
       "    <tr>\n",
       "      <th>25%</th>\n",
       "      <td>184.500000</td>\n",
       "      <td>2.387637</td>\n",
       "      <td>2.000000</td>\n",
       "    </tr>\n",
       "    <tr>\n",
       "      <th>50%</th>\n",
       "      <td>369.000000</td>\n",
       "      <td>3.023173</td>\n",
       "      <td>2.000000</td>\n",
       "    </tr>\n",
       "    <tr>\n",
       "      <th>75%</th>\n",
       "      <td>553.500000</td>\n",
       "      <td>4.145237</td>\n",
       "      <td>2.000000</td>\n",
       "    </tr>\n",
       "    <tr>\n",
       "      <th>max</th>\n",
       "      <td>738.000000</td>\n",
       "      <td>132.632586</td>\n",
       "      <td>2.000000</td>\n",
       "    </tr>\n",
       "  </tbody>\n",
       "</table>\n",
       "</div>"
      ],
      "text/plain": [
       "       Unnamed: 0  time_in_seconds       level\n",
       "count  739.000000       739.000000  739.000000\n",
       "mean   369.000000         4.389104    1.851150\n",
       "std    213.475213         8.724174    0.359966\n",
       "min      0.000000         0.000000    0.000000\n",
       "25%    184.500000         2.387637    2.000000\n",
       "50%    369.000000         3.023173    2.000000\n",
       "75%    553.500000         4.145237    2.000000\n",
       "max    738.000000       132.632586    2.000000"
      ]
     },
     "execution_count": 11,
     "metadata": {},
     "output_type": "execute_result"
    }
   ],
   "source": [
    "data.describe()"
   ]
  },
  {
   "cell_type": "code",
   "execution_count": 14,
   "id": "63ccee05",
   "metadata": {},
   "outputs": [
    {
     "data": {
      "text/plain": [
       "Unnamed: 0         0\n",
       "url                0\n",
       "time_in_seconds    0\n",
       "level              0\n",
       "dtype: int64"
      ]
     },
     "execution_count": 14,
     "metadata": {},
     "output_type": "execute_result"
    }
   ],
   "source": [
    "data.isnull().sum()"
   ]
  },
  {
   "cell_type": "code",
   "execution_count": 19,
   "id": "de16bdfd",
   "metadata": {},
   "outputs": [
    {
     "data": {
      "text/html": [
       "<div>\n",
       "<style scoped>\n",
       "    .dataframe tbody tr th:only-of-type {\n",
       "        vertical-align: middle;\n",
       "    }\n",
       "\n",
       "    .dataframe tbody tr th {\n",
       "        vertical-align: top;\n",
       "    }\n",
       "\n",
       "    .dataframe thead th {\n",
       "        text-align: right;\n",
       "    }\n",
       "</style>\n",
       "<table border=\"1\" class=\"dataframe\">\n",
       "  <thead>\n",
       "    <tr style=\"text-align: right;\">\n",
       "      <th></th>\n",
       "      <th>url</th>\n",
       "      <th>time_in_seconds</th>\n",
       "      <th>level</th>\n",
       "    </tr>\n",
       "  </thead>\n",
       "  <tbody>\n",
       "    <tr>\n",
       "      <th>0</th>\n",
       "      <td>https://west.uni-koblenz.de/en</td>\n",
       "      <td>3.084176</td>\n",
       "      <td>0</td>\n",
       "    </tr>\n",
       "    <tr>\n",
       "      <th>1</th>\n",
       "      <td>https://west.uni-koblenz.de/en/feed.xml</td>\n",
       "      <td>1.443083</td>\n",
       "      <td>1</td>\n",
       "    </tr>\n",
       "    <tr>\n",
       "      <th>2</th>\n",
       "      <td>https://west.uni-koblenz.de/en/services</td>\n",
       "      <td>2.546146</td>\n",
       "      <td>1</td>\n",
       "    </tr>\n",
       "    <tr>\n",
       "      <th>3</th>\n",
       "      <td>https://west.uni-koblenz.de/en/about-us</td>\n",
       "      <td>2.784159</td>\n",
       "      <td>1</td>\n",
       "    </tr>\n",
       "    <tr>\n",
       "      <th>4</th>\n",
       "      <td>https://west.uni-koblenz.de/en/studying</td>\n",
       "      <td>2.725156</td>\n",
       "      <td>1</td>\n",
       "    </tr>\n",
       "    <tr>\n",
       "      <th>...</th>\n",
       "      <td>...</td>\n",
       "      <td>...</td>\n",
       "      <td>...</td>\n",
       "    </tr>\n",
       "    <tr>\n",
       "      <th>734</th>\n",
       "      <td>https://west.uni-koblenz.de/en/node/3606</td>\n",
       "      <td>22.319277</td>\n",
       "      <td>2</td>\n",
       "    </tr>\n",
       "    <tr>\n",
       "      <th>735</th>\n",
       "      <td>https://west.uni-koblenz.de/sites/default/file...</td>\n",
       "      <td>96.892542</td>\n",
       "      <td>2</td>\n",
       "    </tr>\n",
       "    <tr>\n",
       "      <th>736</th>\n",
       "      <td>https://west.uni-koblenz.de/en/node/3606</td>\n",
       "      <td>24.003373</td>\n",
       "      <td>2</td>\n",
       "    </tr>\n",
       "    <tr>\n",
       "      <th>737</th>\n",
       "      <td>https://west.uni-koblenz.de/sites/default/file...</td>\n",
       "      <td>113.320481</td>\n",
       "      <td>2</td>\n",
       "    </tr>\n",
       "    <tr>\n",
       "      <th>738</th>\n",
       "      <td>https://west.uni-koblenz.de/de/forschung/publi...</td>\n",
       "      <td>132.632586</td>\n",
       "      <td>2</td>\n",
       "    </tr>\n",
       "  </tbody>\n",
       "</table>\n",
       "<p>739 rows × 3 columns</p>\n",
       "</div>"
      ],
      "text/plain": [
       "                                                   url  time_in_seconds  level\n",
       "0                       https://west.uni-koblenz.de/en         3.084176      0\n",
       "1              https://west.uni-koblenz.de/en/feed.xml         1.443083      1\n",
       "2              https://west.uni-koblenz.de/en/services         2.546146      1\n",
       "3              https://west.uni-koblenz.de/en/about-us         2.784159      1\n",
       "4              https://west.uni-koblenz.de/en/studying         2.725156      1\n",
       "..                                                 ...              ...    ...\n",
       "734           https://west.uni-koblenz.de/en/node/3606        22.319277      2\n",
       "735  https://west.uni-koblenz.de/sites/default/file...        96.892542      2\n",
       "736           https://west.uni-koblenz.de/en/node/3606        24.003373      2\n",
       "737  https://west.uni-koblenz.de/sites/default/file...       113.320481      2\n",
       "738  https://west.uni-koblenz.de/de/forschung/publi...       132.632586      2\n",
       "\n",
       "[739 rows x 3 columns]"
      ]
     },
     "execution_count": 19,
     "metadata": {},
     "output_type": "execute_result"
    }
   ],
   "source": [
    "#Removing the first column as we dont get any information from that\n",
    "data = data.drop(\"Unnamed: 0\",axis=1)\n",
    "data"
   ]
  },
  {
   "cell_type": "code",
   "execution_count": 36,
   "id": "be05a268",
   "metadata": {},
   "outputs": [
    {
     "data": {
      "text/plain": [
       "Text(0.5, 1.0, 'Frequency Histogram of Time in seconds')"
      ]
     },
     "execution_count": 36,
     "metadata": {},
     "output_type": "execute_result"
    },
    {
     "data": {
      "image/png": "[encoded data removed]",
      "text/plain": [
       "<Figure size 432x288 with 1 Axes>"
      ]
     },
     "metadata": {
      "needs_background": "light"
     },
     "output_type": "display_data"
    }
   ],
   "source": [
    "#Time Distribituation\n",
    "\n",
    "freq = plt.hist(data['time_in_seconds'],bins=60)\n",
    "plt.xlabel(\"Time in Seconds\")\n",
    "plt.ylabel(\"Frequency\")\n",
    "plt.title(\"Frequency Histogram of Time in seconds\")"
   ]
  },
  {
   "cell_type": "code",
   "execution_count": 37,
   "id": "f6848e48",
   "metadata": {},
   "outputs": [
    {
     "data": {
      "text/plain": [
       "(739, 3)"
      ]
     },
     "execution_count": 37,
     "metadata": {},
     "output_type": "execute_result"
    }
   ],
   "source": [
    "#To get the dimensions of the data\n",
    "data.shape"
   ]
  },
  {
   "cell_type": "code",
   "execution_count": 44,
   "id": "9d95703e",
   "metadata": {},
   "outputs": [
    {
     "data": {
      "text/plain": [
       "148"
      ]
     },
     "execution_count": 44,
     "metadata": {},
     "output_type": "execute_result"
    }
   ],
   "source": [
    "# To find how many rows will be present for the 20% \n",
    "round(739 * 0.20)"
   ]
  },
  {
   "cell_type": "markdown",
   "id": "f1109424",
   "metadata": {},
   "source": [
    "### The last 148 rows are the 20% of data"
   ]
  },
  {
   "cell_type": "code",
   "execution_count": 43,
   "id": "03570daf",
   "metadata": {
    "scrolled": true
   },
   "outputs": [
    {
     "data": {
      "text/html": [
       "<div>\n",
       "<style scoped>\n",
       "    .dataframe tbody tr th:only-of-type {\n",
       "        vertical-align: middle;\n",
       "    }\n",
       "\n",
       "    .dataframe tbody tr th {\n",
       "        vertical-align: top;\n",
       "    }\n",
       "\n",
       "    .dataframe thead th {\n",
       "        text-align: right;\n",
       "    }\n",
       "</style>\n",
       "<table border=\"1\" class=\"dataframe\">\n",
       "  <thead>\n",
       "    <tr style=\"text-align: right;\">\n",
       "      <th></th>\n",
       "      <th>url</th>\n",
       "      <th>time_in_seconds</th>\n",
       "      <th>level</th>\n",
       "    </tr>\n",
       "  </thead>\n",
       "  <tbody>\n",
       "    <tr>\n",
       "      <th>0</th>\n",
       "      <td>https://west.uni-koblenz.de/en</td>\n",
       "      <td>3.084176</td>\n",
       "      <td>0</td>\n",
       "    </tr>\n",
       "    <tr>\n",
       "      <th>1</th>\n",
       "      <td>https://west.uni-koblenz.de/en/feed.xml</td>\n",
       "      <td>1.443083</td>\n",
       "      <td>1</td>\n",
       "    </tr>\n",
       "    <tr>\n",
       "      <th>2</th>\n",
       "      <td>https://west.uni-koblenz.de/en/services</td>\n",
       "      <td>2.546146</td>\n",
       "      <td>1</td>\n",
       "    </tr>\n",
       "    <tr>\n",
       "      <th>3</th>\n",
       "      <td>https://west.uni-koblenz.de/en/about-us</td>\n",
       "      <td>2.784159</td>\n",
       "      <td>1</td>\n",
       "    </tr>\n",
       "    <tr>\n",
       "      <th>4</th>\n",
       "      <td>https://west.uni-koblenz.de/en/studying</td>\n",
       "      <td>2.725156</td>\n",
       "      <td>1</td>\n",
       "    </tr>\n",
       "    <tr>\n",
       "      <th>...</th>\n",
       "      <td>...</td>\n",
       "      <td>...</td>\n",
       "      <td>...</td>\n",
       "    </tr>\n",
       "    <tr>\n",
       "      <th>586</th>\n",
       "      <td>https://west.uni-koblenz.de/en/about-us/team/d...</td>\n",
       "      <td>0.000000</td>\n",
       "      <td>2</td>\n",
       "    </tr>\n",
       "    <tr>\n",
       "      <th>587</th>\n",
       "      <td>https://west.uni-koblenz.de/en/about-us/team/p...</td>\n",
       "      <td>2.136122</td>\n",
       "      <td>2</td>\n",
       "    </tr>\n",
       "    <tr>\n",
       "      <th>588</th>\n",
       "      <td>https://west.uni-koblenz.de/en/about-us/team/a...</td>\n",
       "      <td>2.452140</td>\n",
       "      <td>2</td>\n",
       "    </tr>\n",
       "    <tr>\n",
       "      <th>589</th>\n",
       "      <td>https://west.uni-koblenz.de/en/about-us/team/t...</td>\n",
       "      <td>2.980170</td>\n",
       "      <td>2</td>\n",
       "    </tr>\n",
       "    <tr>\n",
       "      <th>590</th>\n",
       "      <td>https://west.uni-koblenz.de/en/about-us/team/e...</td>\n",
       "      <td>3.105178</td>\n",
       "      <td>2</td>\n",
       "    </tr>\n",
       "  </tbody>\n",
       "</table>\n",
       "<p>591 rows × 3 columns</p>\n",
       "</div>"
      ],
      "text/plain": [
       "                                                   url  time_in_seconds  level\n",
       "0                       https://west.uni-koblenz.de/en         3.084176      0\n",
       "1              https://west.uni-koblenz.de/en/feed.xml         1.443083      1\n",
       "2              https://west.uni-koblenz.de/en/services         2.546146      1\n",
       "3              https://west.uni-koblenz.de/en/about-us         2.784159      1\n",
       "4              https://west.uni-koblenz.de/en/studying         2.725156      1\n",
       "..                                                 ...              ...    ...\n",
       "586  https://west.uni-koblenz.de/en/about-us/team/d...         0.000000      2\n",
       "587  https://west.uni-koblenz.de/en/about-us/team/p...         2.136122      2\n",
       "588  https://west.uni-koblenz.de/en/about-us/team/a...         2.452140      2\n",
       "589  https://west.uni-koblenz.de/en/about-us/team/t...         2.980170      2\n",
       "590  https://west.uni-koblenz.de/en/about-us/team/e...         3.105178      2\n",
       "\n",
       "[591 rows x 3 columns]"
      ]
     },
     "execution_count": 43,
     "metadata": {},
     "output_type": "execute_result"
    }
   ],
   "source": [
    "# Selecting the first 80% of data \n",
    "new_data = data.iloc[:591]\n",
    "new_data"
   ]
  },
  {
   "cell_type": "code",
   "execution_count": 50,
   "id": "495d973c",
   "metadata": {},
   "outputs": [
    {
     "data": {
      "text/plain": [
       "Text(0.5, 1.0, 'Frequency Histogram of Time in seconds for first 80% data')"
      ]
     },
     "execution_count": 50,
     "metadata": {},
     "output_type": "execute_result"
    },
    {
     "data": {
      "image/png": "[encoded data removed]",
      "text/plain": [
       "<Figure size 432x288 with 1 Axes>"
      ]
     },
     "metadata": {
      "needs_background": "light"
     },
     "output_type": "display_data"
    }
   ],
   "source": [
    "#Time Distribituation\n",
    "\n",
    "freq = plt.hist(new_data['time_in_seconds'],bins=100)\n",
    "plt.xlabel(\"Time in Seconds\")\n",
    "plt.ylabel(\"Frequency\")\n",
    "plt.title(\"Frequency Histogram of Time in seconds for first 80% data\")"
   ]
  },
  {
   "cell_type": "code",
   "execution_count": 53,
   "id": "6e39f4cf",
   "metadata": {},
   "outputs": [
    {
     "data": {
      "text/plain": [
       "0.000000      29\n",
       "2.520144       2\n",
       "2.484142       2\n",
       "3.375193       2\n",
       "3.522202       2\n",
       "              ..\n",
       "2.369136       1\n",
       "2.912167       1\n",
       "2.553146       1\n",
       "2.818161       1\n",
       "132.632586     1\n",
       "Name: time_in_seconds, Length: 671, dtype: int64"
      ]
     },
     "execution_count": 53,
     "metadata": {},
     "output_type": "execute_result"
    }
   ],
   "source": [
    "data['time_in_seconds'].value_counts()"
   ]
  },
  {
   "cell_type": "code",
   "execution_count": 75,
   "id": "31ee3cf8",
   "metadata": {},
   "outputs": [],
   "source": [
    "data_without_zero = data[data.time_in_seconds != 0.000000 ]\n",
    "newdata_without_zero = new_data[new_data.time_in_seconds != 0.000000]\n"
   ]
  },
  {
   "cell_type": "code",
   "execution_count": null,
   "id": "f8983dc4",
   "metadata": {},
   "outputs": [],
   "source": []
  },
  {
   "cell_type": "code",
   "execution_count": 73,
   "id": "cda24d7a",
   "metadata": {},
   "outputs": [
    {
     "data": {
      "text/plain": [
       "Text(0.5, 1.0, 'Frequency Histogram of Time in seconds for first 80% data excluding zeros')"
      ]
     },
     "execution_count": 73,
     "metadata": {},
     "output_type": "execute_result"
    },
    {
     "data": {
      "image/png": "[encoded data removed]",
      "text/plain": [
       "<Figure size 432x288 with 1 Axes>"
      ]
     },
     "metadata": {
      "needs_background": "light"
     },
     "output_type": "display_data"
    }
   ],
   "source": [
    "#Time Distribituation\n",
    "\n",
    "freq = plt.hist(newdata_without_zero['time_in_seconds'],bins=100)\n",
    "plt.xlabel(\"Time in Seconds\")\n",
    "plt.ylabel(\"Frequency\")\n",
    "plt.title(\"Frequency Histogram of Time in seconds for first 80% data excluding zeros\")"
   ]
  },
  {
   "cell_type": "code",
   "execution_count": null,
   "id": "670978b5",
   "metadata": {},
   "outputs": [],
   "source": []
  },
  {
   "cell_type": "code",
   "execution_count": null,
   "id": "4b90b8c8",
   "metadata": {},
   "outputs": [],
   "source": []
  }
 ],
 "metadata": {
  "kernelspec": {
   "display_name": "Python 3 (ipykernel)",
   "language": "python",
   "name": "python3"
  },
  "language_info": {
   "codemirror_mode": {
    "name": "ipython",
    "version": 3
   },
   "file_extension": ".py",
   "mimetype": "text/x-python",
   "name": "python",
   "nbconvert_exporter": "python",
   "pygments_lexer": "ipython3",
   "version": "3.9.12"
  }
 },
 "nbformat": 4,
 "nbformat_minor": 5
}
